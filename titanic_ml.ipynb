{
 "cells": [
  {
   "cell_type": "code",
   "execution_count": 1,
   "metadata": {},
   "outputs": [],
   "source": [
    "import numpy as np\n",
    "import matplotlib.pyplot as plt\n",
    "import pandas as pd"
   ]
  },
  {
   "cell_type": "code",
   "execution_count": 2,
   "metadata": {},
   "outputs": [],
   "source": [
    "df_train = pd.read_csv('train.csv')\n",
    "df_test = pd.read_csv('test.csv')"
   ]
  },
  {
   "cell_type": "code",
   "execution_count": 3,
   "metadata": {},
   "outputs": [
    {
     "data": {
      "text/html": [
       "<div>\n",
       "<style scoped>\n",
       "    .dataframe tbody tr th:only-of-type {\n",
       "        vertical-align: middle;\n",
       "    }\n",
       "\n",
       "    .dataframe tbody tr th {\n",
       "        vertical-align: top;\n",
       "    }\n",
       "\n",
       "    .dataframe thead th {\n",
       "        text-align: right;\n",
       "    }\n",
       "</style>\n",
       "<table border=\"1\" class=\"dataframe\">\n",
       "  <thead>\n",
       "    <tr style=\"text-align: right;\">\n",
       "      <th></th>\n",
       "      <th>PassengerId</th>\n",
       "      <th>Survived</th>\n",
       "      <th>Pclass</th>\n",
       "      <th>Name</th>\n",
       "      <th>Sex</th>\n",
       "      <th>Age</th>\n",
       "      <th>SibSp</th>\n",
       "      <th>Parch</th>\n",
       "      <th>Ticket</th>\n",
       "      <th>Fare</th>\n",
       "      <th>Cabin</th>\n",
       "      <th>Embarked</th>\n",
       "    </tr>\n",
       "  </thead>\n",
       "  <tbody>\n",
       "    <tr>\n",
       "      <th>0</th>\n",
       "      <td>1</td>\n",
       "      <td>0</td>\n",
       "      <td>3</td>\n",
       "      <td>Braund, Mr. Owen Harris</td>\n",
       "      <td>male</td>\n",
       "      <td>22.0</td>\n",
       "      <td>1</td>\n",
       "      <td>0</td>\n",
       "      <td>A/5 21171</td>\n",
       "      <td>7.2500</td>\n",
       "      <td>NaN</td>\n",
       "      <td>S</td>\n",
       "    </tr>\n",
       "    <tr>\n",
       "      <th>1</th>\n",
       "      <td>2</td>\n",
       "      <td>1</td>\n",
       "      <td>1</td>\n",
       "      <td>Cumings, Mrs. John Bradley (Florence Briggs Th...</td>\n",
       "      <td>female</td>\n",
       "      <td>38.0</td>\n",
       "      <td>1</td>\n",
       "      <td>0</td>\n",
       "      <td>PC 17599</td>\n",
       "      <td>71.2833</td>\n",
       "      <td>C85</td>\n",
       "      <td>C</td>\n",
       "    </tr>\n",
       "    <tr>\n",
       "      <th>2</th>\n",
       "      <td>3</td>\n",
       "      <td>1</td>\n",
       "      <td>3</td>\n",
       "      <td>Heikkinen, Miss. Laina</td>\n",
       "      <td>female</td>\n",
       "      <td>26.0</td>\n",
       "      <td>0</td>\n",
       "      <td>0</td>\n",
       "      <td>STON/O2. 3101282</td>\n",
       "      <td>7.9250</td>\n",
       "      <td>NaN</td>\n",
       "      <td>S</td>\n",
       "    </tr>\n",
       "    <tr>\n",
       "      <th>3</th>\n",
       "      <td>4</td>\n",
       "      <td>1</td>\n",
       "      <td>1</td>\n",
       "      <td>Futrelle, Mrs. Jacques Heath (Lily May Peel)</td>\n",
       "      <td>female</td>\n",
       "      <td>35.0</td>\n",
       "      <td>1</td>\n",
       "      <td>0</td>\n",
       "      <td>113803</td>\n",
       "      <td>53.1000</td>\n",
       "      <td>C123</td>\n",
       "      <td>S</td>\n",
       "    </tr>\n",
       "    <tr>\n",
       "      <th>4</th>\n",
       "      <td>5</td>\n",
       "      <td>0</td>\n",
       "      <td>3</td>\n",
       "      <td>Allen, Mr. William Henry</td>\n",
       "      <td>male</td>\n",
       "      <td>35.0</td>\n",
       "      <td>0</td>\n",
       "      <td>0</td>\n",
       "      <td>373450</td>\n",
       "      <td>8.0500</td>\n",
       "      <td>NaN</td>\n",
       "      <td>S</td>\n",
       "    </tr>\n",
       "  </tbody>\n",
       "</table>\n",
       "</div>"
      ],
      "text/plain": [
       "   PassengerId  Survived  Pclass  \\\n",
       "0            1         0       3   \n",
       "1            2         1       1   \n",
       "2            3         1       3   \n",
       "3            4         1       1   \n",
       "4            5         0       3   \n",
       "\n",
       "                                                Name     Sex   Age  SibSp  \\\n",
       "0                            Braund, Mr. Owen Harris    male  22.0      1   \n",
       "1  Cumings, Mrs. John Bradley (Florence Briggs Th...  female  38.0      1   \n",
       "2                             Heikkinen, Miss. Laina  female  26.0      0   \n",
       "3       Futrelle, Mrs. Jacques Heath (Lily May Peel)  female  35.0      1   \n",
       "4                           Allen, Mr. William Henry    male  35.0      0   \n",
       "\n",
       "   Parch            Ticket     Fare Cabin Embarked  \n",
       "0      0         A/5 21171   7.2500   NaN        S  \n",
       "1      0          PC 17599  71.2833   C85        C  \n",
       "2      0  STON/O2. 3101282   7.9250   NaN        S  \n",
       "3      0            113803  53.1000  C123        S  \n",
       "4      0            373450   8.0500   NaN        S  "
      ]
     },
     "execution_count": 3,
     "metadata": {},
     "output_type": "execute_result"
    }
   ],
   "source": [
    "df_train.head()"
   ]
  },
  {
   "cell_type": "code",
   "execution_count": 4,
   "metadata": {},
   "outputs": [],
   "source": [
    "df_train = df_train.fillna(-1)"
   ]
  },
  {
   "cell_type": "code",
   "execution_count": 5,
   "metadata": {},
   "outputs": [
    {
     "name": "stdout",
     "output_type": "stream",
     "text": [
      "     Pclass     Sex   Age  SibSp  Parch     Fare Embarked Cabin\n",
      "0         3    male  22.0      1      0   7.2500        S    -1\n",
      "1         1  female  38.0      1      0  71.2833        C   C85\n",
      "2         3  female  26.0      0      0   7.9250        S    -1\n",
      "3         1  female  35.0      1      0  53.1000        S  C123\n",
      "4         3    male  35.0      0      0   8.0500        S    -1\n",
      "..      ...     ...   ...    ...    ...      ...      ...   ...\n",
      "886       2    male  27.0      0      0  13.0000        S    -1\n",
      "887       1  female  19.0      0      0  30.0000        S   B42\n",
      "888       3  female  -1.0      1      2  23.4500        S    -1\n",
      "889       1    male  26.0      0      0  30.0000        C  C148\n",
      "890       3    male  32.0      0      0   7.7500        Q    -1\n",
      "\n",
      "[891 rows x 8 columns]      Survived\n",
      "0           0\n",
      "1           1\n",
      "2           1\n",
      "3           1\n",
      "4           0\n",
      "..        ...\n",
      "886         0\n",
      "887         1\n",
      "888         0\n",
      "889         1\n",
      "890         0\n",
      "\n",
      "[891 rows x 1 columns]\n"
     ]
    }
   ],
   "source": [
    "train_res = pd.DataFrame()\n",
    "train_res['Survived'] = df_train['Survived']\n",
    "train_arr = pd.DataFrame()\n",
    "train_arr['Pclass'] = df_train['Pclass']\n",
    "train_arr['Sex'] = df_train['Sex']\n",
    "train_arr['Age'] = df_train['Age']\n",
    "train_arr['SibSp'] = df_train['SibSp']\n",
    "train_arr['Parch'] = df_train['Parch']\n",
    "train_arr['Fare'] = df_train['Fare']\n",
    "train_arr['Embarked'] = df_train['Embarked']\n",
    "train_arr['Cabin'] = df_train['Cabin']\n",
    "print(train_arr, train_res)"
   ]
  },
  {
   "cell_type": "code",
   "execution_count": 6,
   "metadata": {},
   "outputs": [
    {
     "data": {
      "text/plain": [
       "{-1, 'C', 'Q', 'S'}"
      ]
     },
     "execution_count": 6,
     "metadata": {},
     "output_type": "execute_result"
    }
   ],
   "source": [
    "set(train_arr['Embarked'])"
   ]
  },
  {
   "cell_type": "code",
   "execution_count": 7,
   "metadata": {},
   "outputs": [],
   "source": [
    "train_arr['Embarked'] = pd.factorize(train_arr['Embarked'])[0]"
   ]
  },
  {
   "cell_type": "code",
   "execution_count": 8,
   "metadata": {},
   "outputs": [
    {
     "data": {
      "text/plain": [
       "{0, 1, 2, 3}"
      ]
     },
     "execution_count": 8,
     "metadata": {},
     "output_type": "execute_result"
    }
   ],
   "source": [
    "set(train_arr['Embarked'])"
   ]
  },
  {
   "cell_type": "code",
   "execution_count": 9,
   "metadata": {},
   "outputs": [],
   "source": [
    "train_arr['Cabin'] = pd.factorize(train_arr['Cabin'])[0]"
   ]
  },
  {
   "cell_type": "code",
   "execution_count": 10,
   "metadata": {},
   "outputs": [
    {
     "data": {
      "text/plain": [
       "{0, 1, 2, 3}"
      ]
     },
     "execution_count": 10,
     "metadata": {},
     "output_type": "execute_result"
    }
   ],
   "source": [
    "set(train_arr['Embarked'])"
   ]
  },
  {
   "cell_type": "code",
   "execution_count": 11,
   "metadata": {},
   "outputs": [
    {
     "name": "stdout",
     "output_type": "stream",
     "text": [
      "Pclass\n",
      "Sex\n",
      "Age\n",
      "SibSp\n",
      "Parch\n",
      "Fare"
     ]
    },
    {
     "name": "stdout",
     "output_type": "stream",
     "text": [
      "\n",
      "Embarked\n",
      "Cabin\n"
     ]
    },
    {
     "data": {
      "image/png": "[encoded data removed]",
      "text/plain": [
       "<Figure size 432x288 with 1 Axes>"
      ]
     },
     "metadata": {
      "needs_background": "light"
     },
     "output_type": "display_data"
    },
    {
     "data": {
      "image/png": "[encoded data removed]",
      "text/plain": [
       "<Figure size 432x288 with 1 Axes>"
      ]
     },
     "metadata": {
      "needs_background": "light"
     },
     "output_type": "display_data"
    },
    {
     "data": {
      "image/png": "[encoded data removed]",
      "text/plain": [
       "<Figure size 432x288 with 1 Axes>"
      ]
     },
     "metadata": {
      "needs_background": "light"
     },
     "output_type": "display_data"
    },
    {
     "data": {
      "image/png": "[encoded data removed]",
      "text/plain": [
       "<Figure size 432x288 with 1 Axes>"
      ]
     },
     "metadata": {
      "needs_background": "light"
     },
     "output_type": "display_data"
    },
    {
     "data": {
      "image/png": "[encoded data removed]",
      "text/plain": [
       "<Figure size 432x288 with 1 Axes>"
      ]
     },
     "metadata": {
      "needs_background": "light"
     },
     "output_type": "display_data"
    },
    {
     "data": {
      "image/png": "[encoded data removed]",
      "text/plain": [
       "<Figure size 432x288 with 1 Axes>"
      ]
     },
     "metadata": {
      "needs_background": "light"
     },
     "output_type": "display_data"
    },
    {
     "data": {
      "image/png": "[encoded data removed]",
      "text/plain": [
       "<Figure size 432x288 with 1 Axes>"
      ]
     },
     "metadata": {
      "needs_background": "light"
     },
     "output_type": "display_data"
    },
    {
     "data": {
      "image/png": "[encoded data removed]",
      "text/plain": [
       "<Figure size 432x288 with 1 Axes>"
      ]
     },
     "metadata": {
      "needs_background": "light"
     },
     "output_type": "display_data"
    }
   ],
   "source": [
    "train_keys = train_arr.keys()\n",
    "for key in train_keys: \n",
    "    print(key)\n",
    "    plt.figure()\n",
    "    living = train_arr[key][train_res['Survived'] == 1]\n",
    "    dead = train_arr[key][train_res['Survived'] == 0]\n",
    "    plt.hist(living, bins=max(len(set(living)), 10), color='b', histtype='step', label='Survivors')\n",
    "    plt.hist(dead, bins=max(len(set(dead)), 10), color='r', histtype='step', label='Deceased')\n",
    "    plt.xlabel(key)\n",
    "    plt.ylabel('# of people')\n",
    "    plt.legend()"
   ]
  },
  {
   "cell_type": "code",
   "execution_count": 12,
   "metadata": {},
   "outputs": [
    {
     "data": {
      "text/plain": [
       "(     Pclass     Sex   Age  SibSp  Parch     Fare  Embarked  Cabin\n",
       " 0         3    male  22.0      1      0   7.2500         0      0\n",
       " 1         1  female  38.0      1      0  71.2833         1      1\n",
       " 2         3  female  26.0      0      0   7.9250         0      0\n",
       " 3         1  female  35.0      1      0  53.1000         0      2\n",
       " 4         3    male  35.0      0      0   8.0500         0      0\n",
       " ..      ...     ...   ...    ...    ...      ...       ...    ...\n",
       " 886       2    male  27.0      0      0  13.0000         0      0\n",
       " 887       1  female  19.0      0      0  30.0000         0    146\n",
       " 888       3  female  -1.0      1      2  23.4500         0      0\n",
       " 889       1    male  26.0      0      0  30.0000         1    147\n",
       " 890       3    male  32.0      0      0   7.7500         2      0\n",
       " \n",
       " [891 rows x 8 columns],\n",
       "      Survived\n",
       " 0           0\n",
       " 1           1\n",
       " 2           1\n",
       " 3           1\n",
       " 4           0\n",
       " ..        ...\n",
       " 886         0\n",
       " 887         1\n",
       " 888         0\n",
       " 889         1\n",
       " 890         0\n",
       " \n",
       " [891 rows x 1 columns])"
      ]
     },
     "execution_count": 12,
     "metadata": {},
     "output_type": "execute_result"
    }
   ],
   "source": [
    "train_arr, train_res"
   ]
  },
  {
   "cell_type": "markdown",
   "metadata": {},
   "source": [
    "# Now we can start with the machine learning."
   ]
  },
  {
   "cell_type": "code",
   "execution_count": 15,
   "metadata": {},
   "outputs": [],
   "source": [
    "from tqdm import tqdm\n",
    "import tensorflow as tf\n",
    "from tensorflow import keras\n",
    "from scipy.spatial import cKDTree\n",
    "from sklearn.model_selection import train_test_split as array_split\n",
    "from titanic_ml import *"
   ]
  },
  {
   "cell_type": "code",
   "execution_count": null,
   "metadata": {},
   "outputs": [],
   "source": [
    "new_models = True\n",
    "retrain_num = 2\n",
    "reg_loc = 'Models/titanic_reg.f5'\n",
    "reg_mat_train, reg_mat_test, reg_vec_train, reg_vec_test = array_split(reg_mat, reg_vec, test_size=0.3, random_state=986178946)\n",
    "\n",
    "if new_models:\n",
    "    for i in range(retrain_num):\n",
    "        rate = 1e-3\n",
    "        if i == 0:\n",
    "            model_reg = tf_regression(reg_mat_train, rate=rate)\n",
    "            history = model_reg.fit(reg_mat_train, reg_vec_train, epochs=100, verbose=0, shuffle=True)\n",
    "            model_reg.evaluate(reg_mat_test, reg_vec_test, verbose=1)\n",
    "            model_reg.save(reg_loc)\n",
    "        else:\n",
    "            rate /= 10\n",
    "            model_reg = recompile(reg_loc, rate=rate)\n",
    "            history = model_reg.fit(reg_mat_train, reg_vec_train, epochs=100, verbose=0, shuffle=True)\n",
    "            model_reg.evaluate(reg_mat_test, reg_vec_test, verbose=1)\n",
    "            model_reg.save(reg_loc)\n",
    "\n",
    "        period = time() - start\n",
    "        print(f'It took {period/60} minutes.')\n",
    "    plot_metric(history, metric='mean_absolute_percentage_error')\n",
    "\n",
    "else:\n",
    "    model_reg = recompile(reg_loc, rate=1e-7)\n",
    "    history = model_reg.fit(reg_mat_train, reg_vec_train, epochs=100, verbose=0, shuffle=True)\n",
    "    model_reg.evaluate(reg_mat_test, reg_vec_test, verbose=1)\n",
    "    model_reg.save(reg_loc)\n",
    "    plot_metric(history, metric='mean_absolute_percentage_error')\n",
    "\n",
    "print(np.mean(reg_vec), max(reg_vec), min(reg_vec), len(np.where(reg_vec==0)[0]))"
   ]
  }
 ],
 "metadata": {
  "interpreter": {
   "hash": "e7370f93d1d0cde622a1f8e1c04877d8463912d04d973331ad4851f04de6915a"
  },
  "kernelspec": {
   "display_name": "Python 3.10.12 64-bit",
   "language": "python",
   "name": "python3"
  },
  "language_info": {
   "codemirror_mode": {
    "name": "ipython",
    "version": 3
   },
   "file_extension": ".py",
   "mimetype": "text/x-python",
   "name": "python",
   "nbconvert_exporter": "python",
   "pygments_lexer": "ipython3",
   "version": "3.8.10"
  },
  "orig_nbformat": 4
 },
 "nbformat": 4,
 "nbformat_minor": 2
}
